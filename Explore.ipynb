{
 "cells": [
  {
   "cell_type": "code",
   "execution_count": 1,
   "metadata": {
    "collapsed": true
   },
   "outputs": [],
   "source": [
    "# Python 2 notebook for exploring and understanding the data"
   ]
  },
  {
   "cell_type": "code",
   "execution_count": 2,
   "metadata": {
    "collapsed": true
   },
   "outputs": [],
   "source": [
    "import pandas as pd\n",
    "import numpy as np"
   ]
  },
  {
   "cell_type": "code",
   "execution_count": 7,
   "metadata": {},
   "outputs": [],
   "source": [
    "factor_data = pd.read_csv(\"stock_data/factor_data.csv\")\n",
    "ticker_data = pd.read_csv(\"stock_data/ticker_data.csv\")"
   ]
  },
  {
   "cell_type": "code",
   "execution_count": 8,
   "metadata": {},
   "outputs": [
    {
     "data": {
      "text/html": [
       "<div>\n",
       "<style scoped>\n",
       "    .dataframe tbody tr th:only-of-type {\n",
       "        vertical-align: middle;\n",
       "    }\n",
       "\n",
       "    .dataframe tbody tr th {\n",
       "        vertical-align: top;\n",
       "    }\n",
       "\n",
       "    .dataframe thead th {\n",
       "        text-align: right;\n",
       "    }\n",
       "</style>\n",
       "<table border=\"1\" class=\"dataframe\">\n",
       "  <thead>\n",
       "    <tr style=\"text-align: right;\">\n",
       "      <th></th>\n",
       "      <th>VIX</th>\n",
       "      <th>COPP</th>\n",
       "      <th>3M_R</th>\n",
       "      <th>US_TRY</th>\n",
       "      <th>BIG_IX</th>\n",
       "      <th>SMALL_IX</th>\n",
       "      <th>SENTI</th>\n",
       "      <th>TEMP</th>\n",
       "      <th>RAIN</th>\n",
       "      <th>OIL</th>\n",
       "      <th>timestep</th>\n",
       "    </tr>\n",
       "  </thead>\n",
       "  <tbody>\n",
       "    <tr>\n",
       "      <th>0</th>\n",
       "      <td>15.000000</td>\n",
       "      <td>90.000000</td>\n",
       "      <td>0.060000</td>\n",
       "      <td>0.270000</td>\n",
       "      <td>100.000000</td>\n",
       "      <td>100.000000</td>\n",
       "      <td>80.000000</td>\n",
       "      <td>74.819656</td>\n",
       "      <td>0.639413</td>\n",
       "      <td>65.000000</td>\n",
       "      <td>0</td>\n",
       "    </tr>\n",
       "    <tr>\n",
       "      <th>1</th>\n",
       "      <td>14.458574</td>\n",
       "      <td>98.095646</td>\n",
       "      <td>0.060474</td>\n",
       "      <td>0.269558</td>\n",
       "      <td>99.595377</td>\n",
       "      <td>99.623765</td>\n",
       "      <td>79.035163</td>\n",
       "      <td>72.808788</td>\n",
       "      <td>0.173868</td>\n",
       "      <td>72.594727</td>\n",
       "      <td>1</td>\n",
       "    </tr>\n",
       "    <tr>\n",
       "      <th>2</th>\n",
       "      <td>14.023697</td>\n",
       "      <td>91.706222</td>\n",
       "      <td>0.060615</td>\n",
       "      <td>0.269159</td>\n",
       "      <td>99.208056</td>\n",
       "      <td>99.249246</td>\n",
       "      <td>78.287603</td>\n",
       "      <td>73.285432</td>\n",
       "      <td>0.814486</td>\n",
       "      <td>67.663561</td>\n",
       "      <td>2</td>\n",
       "    </tr>\n",
       "    <tr>\n",
       "      <th>3</th>\n",
       "      <td>14.429497</td>\n",
       "      <td>85.731487</td>\n",
       "      <td>0.060333</td>\n",
       "      <td>0.264040</td>\n",
       "      <td>99.780371</td>\n",
       "      <td>99.628927</td>\n",
       "      <td>79.847429</td>\n",
       "      <td>79.046248</td>\n",
       "      <td>0.400980</td>\n",
       "      <td>79.658158</td>\n",
       "      <td>3</td>\n",
       "    </tr>\n",
       "    <tr>\n",
       "      <th>4</th>\n",
       "      <td>14.818531</td>\n",
       "      <td>93.597128</td>\n",
       "      <td>0.060188</td>\n",
       "      <td>0.260119</td>\n",
       "      <td>100.401161</td>\n",
       "      <td>100.195401</td>\n",
       "      <td>80.655441</td>\n",
       "      <td>76.964039</td>\n",
       "      <td>0.754570</td>\n",
       "      <td>77.026123</td>\n",
       "      <td>4</td>\n",
       "    </tr>\n",
       "  </tbody>\n",
       "</table>\n",
       "</div>"
      ],
      "text/plain": [
       "         VIX       COPP      3M_R    US_TRY      BIG_IX    SMALL_IX  \\\n",
       "0  15.000000  90.000000  0.060000  0.270000  100.000000  100.000000   \n",
       "1  14.458574  98.095646  0.060474  0.269558   99.595377   99.623765   \n",
       "2  14.023697  91.706222  0.060615  0.269159   99.208056   99.249246   \n",
       "3  14.429497  85.731487  0.060333  0.264040   99.780371   99.628927   \n",
       "4  14.818531  93.597128  0.060188  0.260119  100.401161  100.195401   \n",
       "\n",
       "       SENTI       TEMP      RAIN        OIL  timestep  \n",
       "0  80.000000  74.819656  0.639413  65.000000         0  \n",
       "1  79.035163  72.808788  0.173868  72.594727         1  \n",
       "2  78.287603  73.285432  0.814486  67.663561         2  \n",
       "3  79.847429  79.046248  0.400980  79.658158         3  \n",
       "4  80.655441  76.964039  0.754570  77.026123         4  "
      ]
     },
     "execution_count": 8,
     "metadata": {},
     "output_type": "execute_result"
    }
   ],
   "source": [
    "factor_data.head()"
   ]
  },
  {
   "cell_type": "code",
   "execution_count": 18,
   "metadata": {},
   "outputs": [
    {
     "name": "stdout",
     "output_type": "stream",
     "text": [
      "There are 1000 unique stocks and 2520000 total observations\n"
     ]
    },
    {
     "data": {
      "text/html": [
       "<div>\n",
       "<style scoped>\n",
       "    .dataframe tbody tr th:only-of-type {\n",
       "        vertical-align: middle;\n",
       "    }\n",
       "\n",
       "    .dataframe tbody tr th {\n",
       "        vertical-align: top;\n",
       "    }\n",
       "\n",
       "    .dataframe thead th {\n",
       "        text-align: right;\n",
       "    }\n",
       "</style>\n",
       "<table border=\"1\" class=\"dataframe\">\n",
       "  <thead>\n",
       "    <tr style=\"text-align: right;\">\n",
       "      <th></th>\n",
       "      <th>index</th>\n",
       "      <th>industry</th>\n",
       "      <th>market_cap</th>\n",
       "      <th>pb</th>\n",
       "      <th>returns</th>\n",
       "      <th>ticker</th>\n",
       "      <th>timestep</th>\n",
       "    </tr>\n",
       "  </thead>\n",
       "  <tbody>\n",
       "    <tr>\n",
       "      <th>0</th>\n",
       "      <td>1</td>\n",
       "      <td>TECH</td>\n",
       "      <td>1.086531e+11</td>\n",
       "      <td>0.910461</td>\n",
       "      <td>NaN</td>\n",
       "      <td>0</td>\n",
       "      <td>0</td>\n",
       "    </tr>\n",
       "    <tr>\n",
       "      <th>1</th>\n",
       "      <td>2</td>\n",
       "      <td>TECH</td>\n",
       "      <td>1.767600e+11</td>\n",
       "      <td>1.941031</td>\n",
       "      <td>NaN</td>\n",
       "      <td>1</td>\n",
       "      <td>0</td>\n",
       "    </tr>\n",
       "    <tr>\n",
       "      <th>2</th>\n",
       "      <td>3</td>\n",
       "      <td>TECH</td>\n",
       "      <td>5.787564e+10</td>\n",
       "      <td>3.705055</td>\n",
       "      <td>NaN</td>\n",
       "      <td>2</td>\n",
       "      <td>0</td>\n",
       "    </tr>\n",
       "    <tr>\n",
       "      <th>3</th>\n",
       "      <td>4</td>\n",
       "      <td>TECH</td>\n",
       "      <td>7.896000e+10</td>\n",
       "      <td>3.868566</td>\n",
       "      <td>NaN</td>\n",
       "      <td>3</td>\n",
       "      <td>0</td>\n",
       "    </tr>\n",
       "    <tr>\n",
       "      <th>4</th>\n",
       "      <td>5</td>\n",
       "      <td>TECH</td>\n",
       "      <td>1.362184e+11</td>\n",
       "      <td>4.466850</td>\n",
       "      <td>NaN</td>\n",
       "      <td>4</td>\n",
       "      <td>0</td>\n",
       "    </tr>\n",
       "  </tbody>\n",
       "</table>\n",
       "</div>"
      ],
      "text/plain": [
       "   index industry    market_cap        pb  returns  ticker  timestep\n",
       "0      1     TECH  1.086531e+11  0.910461      NaN       0         0\n",
       "1      2     TECH  1.767600e+11  1.941031      NaN       1         0\n",
       "2      3     TECH  5.787564e+10  3.705055      NaN       2         0\n",
       "3      4     TECH  7.896000e+10  3.868566      NaN       3         0\n",
       "4      5     TECH  1.362184e+11  4.466850      NaN       4         0"
      ]
     },
     "execution_count": 18,
     "metadata": {},
     "output_type": "execute_result"
    }
   ],
   "source": [
    "print \"There are \" + str(ticker_data.ticker.nunique()) + \" unique stocks and \" + str(ticker_data.shape[0]) + \" total observations\"\n",
    "ticker_data.head()"
   ]
  },
  {
   "cell_type": "markdown",
   "metadata": {},
   "source": [
    "Output will have to be the weights of the stocks we want in our portfolio.  \n",
    "- Will be a vector of length 1000 * days\n",
    "\n",
    "Things we want captured in our features\n",
    "- Correlations between different tickers\n",
    "- Correlations between tickers and events\n",
    "- Change in ticker values from day before (as percent)"
   ]
  },
  {
   "cell_type": "code",
   "execution_count": null,
   "metadata": {
    "collapsed": true
   },
   "outputs": [],
   "source": []
  },
  {
   "cell_type": "markdown",
   "metadata": {},
   "source": [
    "We want to merge these two datasets and do some basic feature engineering.\n"
   ]
  },
  {
   "cell_type": "code",
   "execution_count": null,
   "metadata": {
    "collapsed": true
   },
   "outputs": [],
   "source": [
    "all_data = pd.join"
   ]
  }
 ],
 "metadata": {
  "kernelspec": {
   "display_name": "Python 2",
   "language": "python",
   "name": "python2"
  },
  "language_info": {
   "codemirror_mode": {
    "name": "ipython",
    "version": 2
   },
   "file_extension": ".py",
   "mimetype": "text/x-python",
   "name": "python",
   "nbconvert_exporter": "python",
   "pygments_lexer": "ipython2",
   "version": "2.7.14"
  }
 },
 "nbformat": 4,
 "nbformat_minor": 2
}
